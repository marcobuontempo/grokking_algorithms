{
 "cells": [
  {
   "cell_type": "markdown",
   "metadata": {},
   "source": [
    "# <center> **Selection Sort**\n",
    "*<center>Selection sort is a sorting algorithm that selects the smallest element from an unsorted list in each iteration and places that element at the beginning of the unsorted list.</center>*\n",
    "\n",
    "***\n",
    "\n",
    "- **Time Complexity:** O(n<sup>2</sup>)\n",
    "\n",
    "- **Algorithm:**\n",
    "    1. Iterate through entire array and store the lowest/smallest value\n",
    "    1. Remove the smallest value from array, and store in a new array (where sorted values will be kept)\n",
    "    1. Repeat steps until no values left in original array\n",
    "\n",
    "***"
   ]
  },
  {
   "cell_type": "code",
   "execution_count": 1,
   "metadata": {},
   "outputs": [
    {
     "name": "stdout",
     "output_type": "stream",
     "text": [
      "Sorted Array: [1, 2, 4, 6, 10, 11, 12, 16, 19, 21, 22, 23, 25, 30, 34, 36, 39, 42, 42, 48]\n"
     ]
    }
   ],
   "source": [
    "# EXAMPLE\n",
    "import random\n",
    "\n",
    "my_arr = [23, 4, 42, 36, 12, 19, 34, 10, 42, 16, 1, 25, 21, 39, 22, 30, 6, 11, 2, 48]\n",
    "\n",
    "def find_smallest(arr):\n",
    "    smallest = arr[0]\n",
    "    smallest_index = 0\n",
    "    for i in range(1,len(arr)):\n",
    "        if arr[i] < smallest:\n",
    "            smallest = arr[i]\n",
    "            smallest_index = i\n",
    "    return smallest_index\n",
    "\n",
    "def selection_sort(arr):\n",
    "    new_arr = []\n",
    "    for i in range(len(arr)):\n",
    "        smallest = find_smallest(arr)\n",
    "        new_arr.append(arr.pop(smallest))\n",
    "    return new_arr\n",
    "\n",
    "print(\"Sorted Array:\",selection_sort(my_arr))"
   ]
  }
 ],
 "metadata": {
  "kernelspec": {
   "display_name": "Python 3.9.12 ('base')",
   "language": "python",
   "name": "python3"
  },
  "language_info": {
   "codemirror_mode": {
    "name": "ipython",
    "version": 3
   },
   "file_extension": ".py",
   "mimetype": "text/x-python",
   "name": "python",
   "nbconvert_exporter": "python",
   "pygments_lexer": "ipython3",
   "version": "3.9.12"
  },
  "orig_nbformat": 4,
  "vscode": {
   "interpreter": {
    "hash": "82b2f7e49a54dfc9e19a85f649bd0ef29fcdbc801e6c42932c693ea93cc5c6ab"
   }
  }
 },
 "nbformat": 4,
 "nbformat_minor": 2
}
