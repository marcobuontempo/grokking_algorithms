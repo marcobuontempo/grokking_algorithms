{
 "cells": [
  {
   "cell_type": "markdown",
   "metadata": {},
   "source": [
    "# <center> **Greedy Algorithms**\n",
    "*<center>Greedy algorithms are an approach for solving a problem by optimising for local solutions, and so the end result should be an approximation of the true globally optimised solution. In reality, it is improbable that they provide true globally optimised solutions, but it is usually \"good enough\". This method is used for complex problems that are NP-complete and no efficient algorithms exist.</center>*\n",
    "\n",
    "***\n",
    "\n",
    "- **Technique:**\n",
    "    1. Find the locally optimised solution and save this choice (e.g. if we want to find the most space in a truck we can fill with boxes, choose the largest box that will currently fit - AKA. the local optimisation)\n",
    "    1. Repeat the first step until and end result is achieved (e.g. keep choosing the next largest box that will fit in the remaining space, until no more boxes will fit)\n",
    "***"
   ]
  },
  {
   "cell_type": "code",
   "execution_count": 1,
   "metadata": {},
   "outputs": [
    {
     "name": "stdout",
     "output_type": "stream",
     "text": [
      "The stations that will cover all states are: {'kone', 'ktwo', 'kfour', 'kfive'}\n"
     ]
    }
   ],
   "source": [
    "# EXAMPLE - The Set-Covering Problem\n",
    "#we want to use the least amount of radio stations that cover all the states\n",
    "\n",
    "###SETUP###\n",
    "#the states we want to cover - using set() as there should be no duplicates, and to perform necessary operations with other sets\n",
    "states_needed = set([\"qld\",\"nsw\",\"vic\",\"tas\",\"sa\",\"wa\",\"nt\",\"act\"])\n",
    "#station names and states they cover\n",
    "stations = {}\n",
    "stations[\"kone\"] = set([\"qld\",\"nsw\",\"vic\"])\n",
    "stations[\"ktwo\"] = set([\"nsw\",\"vic\",\"tas\"])\n",
    "stations[\"kthree\"] = set([\"vic\",\"sa\",\"nsw\"])\n",
    "stations[\"kfour\"] = set([\"wa\",\"nt\",\"sa\"])\n",
    "stations[\"kfive\"] = set([\"nsw\",\"act\"])\n",
    "#to store the list of final stations to use\n",
    "final_stations = set()\n",
    "\n",
    "\n",
    "###ALGORITHM###\n",
    "#find the \"best station\" - which will be the station that covers the most states\n",
    "while states_needed:    #keep looping until all states have been covered (i.e. no more states needed)\n",
    "    best_station = None\n",
    "    states_covered = set()\n",
    "    for station, states_for_station in stations.items():\n",
    "        covered = states_needed & states_for_station    #union join both sets, to see which set covers the most states that haven't already been covered by previous selections\n",
    "        if len(covered) > len(states_covered):\n",
    "            best_station = station\n",
    "            states_covered = covered\n",
    "    final_stations.add(best_station)    #add the best station that was selected in the previous for-loop\n",
    "    states_needed -= states_covered     #remove the states that the added station already covers, as they are no longer required to be covered by future stations\n",
    "\n",
    "print(\"The stations that will cover all states are:\",final_stations)"
   ]
  },
  {
   "cell_type": "code",
   "execution_count": 2,
   "metadata": {},
   "outputs": [
    {
     "name": "stdout",
     "output_type": "stream",
     "text": [
      "{'art': {'start': '09:00', 'stop': '10:00'}, 'math': {'start': '10:00', 'stop': '11:00'}, 'music': {'start': '11:00', 'stop': '12:00'}}\n"
     ]
    }
   ],
   "source": [
    "#EXAMPLE - Simple Greedy\n",
    "#we want to schedule the most classes as possible in a day for a given classroom\n",
    "\n",
    "###SETUP\n",
    "#each class' start and stop times\n",
    "schedule = {}\n",
    "schedule[\"art\"] = {\"start\": \"09:00\", \"stop\":\"10:00\"}\n",
    "schedule[\"eng\"] = {\"start\": \"09:30\", \"stop\":\"10:30\"}\n",
    "schedule[\"math\"] = {\"start\": \"10:00\", \"stop\":\"11:00\"}\n",
    "schedule[\"cs\"] = {\"start\": \"10:30\", \"stop\":\"11:30\"}\n",
    "schedule[\"music\"] = {\"start\": \"11:00\", \"stop\":\"12:00\"}\n",
    "#hash table to store the final schedule\n",
    "final_schedule = {}\n",
    "#array to store the information about classes that have already been checked\n",
    "classes_checked = []\n",
    "\n",
    "\n",
    "###ALGORITHM\n",
    "#1. pick the class that ends soonest\n",
    "#2. pick the next class that starts after the previous class, and also ends the soonest\n",
    "#3. repeat\n",
    "prev_class_finish = \"00:00\"  #to keep track of the previous selected class' end time - started as \"0000\" as all class times are after this time\n",
    "while len(classes_checked) < len(schedule): #continue looping until all classes have been checked (i.e. class is added to schedule, or it clashes with a previously selected class)\n",
    "    next_best_class = None   #keep track of the next best class\n",
    "    next_earliest_finish = \"99:99\"  #keep track of the earliest finish time of next possible class to schedule\n",
    "    for class_name,times in schedule.items():\n",
    "        if class_name in classes_checked:   #if class has been checked, skip item\n",
    "            continue\n",
    "        if times[\"start\"] < prev_class_finish:  #if start time of class is before the last selected class' end time, then mark as checked (as it cannot be scheduled)\n",
    "            classes_checked.append(class_name)\n",
    "            continue\n",
    "        if times[\"stop\"] < next_earliest_finish: #to select the next class with earliest finish time\n",
    "            next_best_class = class_name\n",
    "            next_earliest_finish = times[\"stop\"]\n",
    "    final_schedule[next_best_class] = schedule[next_best_class] #add selected class to the final schedule and update necessary items\n",
    "    classes_checked.append(next_best_class)\n",
    "    prev_class_finish = schedule[next_best_class][\"stop\"]\n",
    "\n",
    "#print the final schedule\n",
    "print(final_schedule)\n",
    "\n"
   ]
  }
 ],
 "metadata": {
  "kernelspec": {
   "display_name": "Python 3.9.12 ('base')",
   "language": "python",
   "name": "python3"
  },
  "language_info": {
   "codemirror_mode": {
    "name": "ipython",
    "version": 3
   },
   "file_extension": ".py",
   "mimetype": "text/x-python",
   "name": "python",
   "nbconvert_exporter": "python",
   "pygments_lexer": "ipython3",
   "version": "3.9.12"
  },
  "orig_nbformat": 4,
  "vscode": {
   "interpreter": {
    "hash": "82b2f7e49a54dfc9e19a85f649bd0ef29fcdbc801e6c42932c693ea93cc5c6ab"
   }
  }
 },
 "nbformat": 4,
 "nbformat_minor": 2
}
