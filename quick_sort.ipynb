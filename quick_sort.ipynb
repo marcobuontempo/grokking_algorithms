{
 "cells": [
  {
   "cell_type": "markdown",
   "metadata": {},
   "source": [
    "# <center> **Quick Sort**\n",
    "*<center>Quicksort is a popular sorting algorithm that is often faster in practice compared to other sorting algorithms. It utilizes a divide-and-conquer strategy to quickly sort data items by dividing a large array into two smaller arrays.</center>*\n",
    "\n",
    "***\n",
    "\n",
    "- **Time Complexity:** O(n log n)\n",
    "\n",
    "- **Algorithm:**\n",
    "    1. Base case is where there are 0 or 1 elements in array (and therefore is already sorted)\n",
    "    1. Choose a pivot value\n",
    "    1. Put all values lower or equal than pivot into a left-side array. All values greater than pivot into a right-side array\n",
    "    1. Concatenate left and right arrays on either side of pivot value, respectively. In this concatenation, recursively call the quick sort method on both arrays.\n",
    "\n",
    "***"
   ]
  },
  {
   "cell_type": "code",
   "execution_count": 1,
   "metadata": {},
   "outputs": [
    {
     "name": "stdout",
     "output_type": "stream",
     "text": [
      "Sorted array: [1, 2, 4, 6, 10, 11, 12, 16, 19, 21, 22, 23, 25, 30, 34, 36, 39, 42, 42, 48]\n"
     ]
    }
   ],
   "source": [
    "# EXAMPLE\n",
    "\n",
    "my_arr = [23, 4, 42, 36, 12, 19, 34, 10, 42, 16, 1, 25, 21, 39, 22, 30, 6, 11, 2, 48]\n",
    "\n",
    "def quick_sort(arr):\n",
    "    #base case\n",
    "    if len(arr) < 2:\n",
    "        return arr\n",
    "    #recursive case\n",
    "    else:\n",
    "        pivot = arr[0]\n",
    "        less_arr = [i for i in arr[1:] if i <= pivot]\n",
    "        greater_arr = [i for i in arr[1:] if i > pivot]\n",
    "        return quick_sort(less_arr) + [pivot] + quick_sort(greater_arr)\n",
    "\n",
    "print(\"Sorted array:\",quick_sort(my_arr))"
   ]
  }
 ],
 "metadata": {
  "kernelspec": {
   "display_name": "Python 3.10.4 64-bit",
   "language": "python",
   "name": "python3"
  },
  "language_info": {
   "codemirror_mode": {
    "name": "ipython",
    "version": 3
   },
   "file_extension": ".py",
   "mimetype": "text/x-python",
   "name": "python",
   "nbconvert_exporter": "python",
   "pygments_lexer": "ipython3",
   "version": "3.10.4"
  },
  "orig_nbformat": 4,
  "vscode": {
   "interpreter": {
    "hash": "aee8b7b246df8f9039afb4144a1f6fd8d2ca17a180786b69acc140d282b71a49"
   }
  }
 },
 "nbformat": 4,
 "nbformat_minor": 2
}
