{
 "cells": [
  {
   "cell_type": "markdown",
   "metadata": {},
   "source": [
    "# <center> **Hash Tables**\n",
    "*<center>A hash table is a data structure that you can use to store data in key-value format with direct access to its items in constant time. Hash tables are said to be associative, which means that for each key, data occurs at most once.</center>*\n",
    "*<center>NB: Hash tables are already implemented in most languages already. For example, Python's dictionaries are hash tables (i.e. dict() or {} to create a hash table)</center>*\n",
    "\n",
    "***\n",
    "\n",
    "- **Time Complexity:** O(1)\n",
    "\n",
    "- **Structure:**\n",
    "    1. An element is converted into an integer by using a hash function. This element can be used as an index to store the original element, which falls into the hash table.\n",
    "    1. The element is stored in the hash table where it can be quickly retrieved using hashed key. hash = hashfunc(key)\n",
    "\n",
    "***"
   ]
  },
  {
   "cell_type": "code",
   "execution_count": 1,
   "metadata": {},
   "outputs": [
    {
     "name": "stdout",
     "output_type": "stream",
     "text": [
      "[[['Jane', 333]], None, [['Cory', 302]], None, [['Bob', 123], ['Stephanie', 555]], None, [['Jessica', 871]], [['Leah', 767]], [['Damian', 789], ['Pablo', 229], ['George', 800]], None, None, [['Cindy', 180], ['Henry', 100], ['Jasmin', 105]], None, None, [['Peter', 654]]]\n",
      "Pablo's number: 229\n",
      "Frida's number: None\n"
     ]
    }
   ],
   "source": [
    "# EXAMPLE\n",
    "# Note: Hash tables (i.e. dictionaries) and hash functions (i.e. hash()) are already in-built into Python. \n",
    "# This is for demo purposes only.\n",
    "\n",
    "class HashTable():\n",
    "    def __init__(self,length=10):\n",
    "        self.table = [None] * length  #array to store the key-value pairs\n",
    "        self.length = length\n",
    "\n",
    "    def myhash(self, key):\n",
    "        \"\"\"basic hashing function to get index value\"\"\"\n",
    "        hash = len(key) * len(key)\n",
    "        for letter in key:\n",
    "            hash += ord(letter) * 17\n",
    "        return hash % self.length\n",
    "    \n",
    "    def add(self, key, value):\n",
    "        \"\"\"add key-value pair into hash table\"\"\"\n",
    "        #get hash of key\n",
    "        idx = self.myhash(key)\n",
    "        #create empty array at index if it doesn't exist\n",
    "        if self.table[idx] == None:\n",
    "            self.table[idx] = []\n",
    "        #for each key-value pair at hashed index, check if key already exists\n",
    "        updated = False\n",
    "        for kvp in self.table[idx]:\n",
    "            #update value at key if found\n",
    "            if kvp[0] == key:\n",
    "                kvp[1] = value\n",
    "                updated = True\n",
    "                break\n",
    "        #add key-value pair if it doesn't already exist\n",
    "        if updated == False:\n",
    "            self.table[idx].append([key,value])\n",
    "\n",
    "    def get(self, key):\n",
    "        \"\"\"retrieve value using key\"\"\"\n",
    "        #get hash of key and convert to index\n",
    "        idx = self.myhash(key)\n",
    "        #linear search through array and return value when matched\n",
    "        if self.table[idx] != None:\n",
    "            for kvp in self.table[idx]:\n",
    "                if kvp[0] == key:\n",
    "                    return kvp[1]\n",
    "        #return None if not match is found\n",
    "        return None\n",
    "\n",
    "\n",
    "hash_table = HashTable(15)\n",
    "\n",
    "hash_table.add(\"Bob\",123)\n",
    "hash_table.add(\"Jane\",333)\n",
    "hash_table.add(\"Damian\",789)\n",
    "hash_table.add(\"Peter\",654)\n",
    "hash_table.add(\"Cindy\",180)\n",
    "hash_table.add(\"Henry\",100)\n",
    "hash_table.add(\"Leah\",767)\n",
    "hash_table.add(\"Stephanie\",555)\n",
    "hash_table.add(\"Pablo\",229)\n",
    "hash_table.add(\"Jessica\",871)\n",
    "hash_table.add(\"Cory\",302)\n",
    "hash_table.add(\"Jasmin\",105)\n",
    "hash_table.add(\"George\",800)\n",
    "\n",
    "print(hash_table.table)\n",
    "\n",
    "print(\"Pablo's number:\",hash_table.get(\"Pablo\"))\n",
    "print(\"Frida's number:\",hash_table.get(\"Frida\"))\n"
   ]
  }
 ],
 "metadata": {
  "kernelspec": {
   "display_name": "Python 3.10.4 64-bit",
   "language": "python",
   "name": "python3"
  },
  "language_info": {
   "codemirror_mode": {
    "name": "ipython",
    "version": 3
   },
   "file_extension": ".py",
   "mimetype": "text/x-python",
   "name": "python",
   "nbconvert_exporter": "python",
   "pygments_lexer": "ipython3",
   "version": "3.10.4"
  },
  "orig_nbformat": 4,
  "vscode": {
   "interpreter": {
    "hash": "aee8b7b246df8f9039afb4144a1f6fd8d2ca17a180786b69acc140d282b71a49"
   }
  }
 },
 "nbformat": 4,
 "nbformat_minor": 2
}
