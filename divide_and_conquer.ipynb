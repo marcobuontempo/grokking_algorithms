{
 "cells": [
  {
   "cell_type": "markdown",
   "metadata": {},
   "source": [
    "# <center> **Divide & Conquer**\n",
    "*<center>NB: not an individual algorithm - but a technique that many algorithms use</center>*\n",
    "\n",
    "***\n",
    "\n",
    "- **Technique:**\n",
    "    1. Find base case, which is the simplest possible case (e.g. when array size == 0)\n",
    "    1. Divide or decrease problem (using recursive calls) until it reaches the base case\n",
    "\n",
    "***"
   ]
  },
  {
   "cell_type": "code",
   "execution_count": 1,
   "metadata": {},
   "outputs": [
    {
     "name": "stdout",
     "output_type": "stream",
     "text": [
      "Sum of array elements is: 443\n"
     ]
    }
   ],
   "source": [
    "# EXAMPLE 1:\n",
    "# SUM ALL ITEMS\n",
    "\n",
    "my_arr = [23, 4, 42, 36, 12, 19, 34, 10, 42, 16, 1, 25, 21, 39, 22, 30, 6, 11, 2, 48]\n",
    "\n",
    "def sum(arr):\n",
    "    #base case\n",
    "    if arr == []:\n",
    "        return 0\n",
    "    #recursive case\n",
    "    return arr[0] + sum(arr[1:])\n",
    "\n",
    "print(\"Sum of array elements is:\",sum(my_arr))\n"
   ]
  },
  {
   "cell_type": "code",
   "execution_count": 2,
   "metadata": {},
   "outputs": [
    {
     "name": "stdout",
     "output_type": "stream",
     "text": [
      "Total elements in array is: 20\n"
     ]
    }
   ],
   "source": [
    "# EXAMPLE 2:\n",
    "# COUNT NUMBER OF ITEMS\n",
    "\n",
    "def count(arr):\n",
    "    #base case\n",
    "    if arr == []:\n",
    "        return 0\n",
    "    #recursive case\n",
    "    return 1 + count(arr[1:])   #recursive call\n",
    "\n",
    "print(\"Total elements in array is:\",count(my_arr))"
   ]
  },
  {
   "cell_type": "code",
   "execution_count": 3,
   "metadata": {},
   "outputs": [
    {
     "name": "stdout",
     "output_type": "stream",
     "text": [
      "Maximum value in the array is: 48\n"
     ]
    }
   ],
   "source": [
    "# EXAMPLE 3:\n",
    "# FIND MAXIMUM NUMBER\n",
    "\n",
    "def max(arr):\n",
    "    #base case\n",
    "    if len(arr) == 2:\n",
    "        return arr[0] if arr[0] > arr[1] else arr[1]\n",
    "    max_value = max(arr[1:])\n",
    "    #recursive case\n",
    "    return arr[0] if arr[0] > max_value else max_value\n",
    "    \n",
    "print(\"Maximum value in the array is:\",max(my_arr))"
   ]
  },
  {
   "cell_type": "code",
   "execution_count": 4,
   "metadata": {},
   "outputs": [
    {
     "name": "stdout",
     "output_type": "stream",
     "text": [
      "The number 7 is in the array: True\n",
      "The number 20 is in the array: False\n",
      "\n",
      "The number 7 is at index: 2\n",
      "The number 20 is at index: None\n"
     ]
    }
   ],
   "source": [
    "# EXAMPLE 4:\n",
    "# BINARY SEARCH USING RECURSION\n",
    "\n",
    "my_arr = list(range(1,30,3))\n",
    "#[1, 4, 7, 10, 13, 16, 19, 22, 25, 28]\n",
    "\n",
    "# Finding true/false if value exists\n",
    "def binary_search_bool(sorted_arr,item):\n",
    "    #base case\n",
    "    if len(sorted_arr) == 1:\n",
    "        if sorted_arr[0] == item:\n",
    "            return True\n",
    "        else:\n",
    "            return False\n",
    "    #recursive case\n",
    "    mid = len(sorted_arr) // 2\n",
    "    if item == sorted_arr[mid]:\n",
    "        return True\n",
    "    elif item < sorted_arr[mid]:\n",
    "        return binary_search_bool(sorted_arr[:mid],item)\n",
    "    elif item > sorted_arr[mid]:\n",
    "        return binary_search_bool(sorted_arr[mid:],item)\n",
    "\n",
    "print(\"The number 7 is in the array:\",binary_search_bool(my_arr,7))\n",
    "print(\"The number 20 is in the array:\",binary_search_bool(my_arr,20))\n",
    "print()\n",
    "\n",
    "\n",
    "# Finding index of value\n",
    "def binary_search_idx(sorted_arr,item,low=None,high=None):\n",
    "    #default low & high\n",
    "    if low == None or high == None:\n",
    "        low = 0\n",
    "        high = len(sorted_arr)\n",
    "\n",
    "    #shortened array\n",
    "    tmp_arr = sorted_arr[low:high]\n",
    "    mid_idx = len(tmp_arr) // 2\n",
    "    mid_val = tmp_arr[mid_idx]\n",
    "\n",
    "    #base cases\n",
    "    if item == mid_val: #if middle value is the item searching for\n",
    "        return mid_idx\n",
    "    if len(tmp_arr) == 1:   #if only 1 element and it wasn't a match from previous if-statement\n",
    "        return None\n",
    "    \n",
    "    #recursive cases\n",
    "    if item < mid_val:\n",
    "        return binary_search_idx(sorted_arr,item,low,high-mid_idx)\n",
    "    elif item > mid_val:\n",
    "        return binary_search_idx(sorted_arr,item,low+mid_idx,high)\n",
    "\n",
    "print(\"The number 7 is at index:\",binary_search_idx(my_arr,7))\n",
    "print(\"The number 20 is at index:\",binary_search_idx(my_arr,20))"
   ]
  }
 ],
 "metadata": {
  "kernelspec": {
   "display_name": "Python 3.10.4 64-bit",
   "language": "python",
   "name": "python3"
  },
  "language_info": {
   "codemirror_mode": {
    "name": "ipython",
    "version": 3
   },
   "file_extension": ".py",
   "mimetype": "text/x-python",
   "name": "python",
   "nbconvert_exporter": "python",
   "pygments_lexer": "ipython3",
   "version": "3.10.4"
  },
  "orig_nbformat": 4,
  "vscode": {
   "interpreter": {
    "hash": "aee8b7b246df8f9039afb4144a1f6fd8d2ca17a180786b69acc140d282b71a49"
   }
  }
 },
 "nbformat": 4,
 "nbformat_minor": 2
}
