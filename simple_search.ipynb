{
 "cells": [
  {
   "cell_type": "markdown",
   "id": "24def1ac",
   "metadata": {},
   "source": [
    "# <center> **Simple Search**\n",
    "*<center>AKA Linear search. A very basic and simple search algorithm. An array is traversed from the start, until the desired element or value is found.</center>*\n",
    "***\n",
    "\n",
    "- **Time Complexity:** O(n)\n",
    "\n",
    "- **Algorithm:**\n",
    "    1. Check through each item in an array in order until a match is found\n",
    "    1. If no match is found, return null\n",
    "\n",
    "***"
   ]
  },
  {
   "cell_type": "code",
   "execution_count": 1,
   "id": "84455fbe",
   "metadata": {},
   "outputs": [
    {
     "name": "stdout",
     "output_type": "stream",
     "text": [
      "11 is at index: 10\n",
      "45 is at index: None\n"
     ]
    }
   ],
   "source": [
    "# EXAMPLE\n",
    "\n",
    "my_arr = list(range(1,21))\n",
    "# [1, 2, 3, 4, 5, 6, 7, 8, 9, 10, 11, 12, 13, 14, 15, 16, 17, 18, 19, 20]\n",
    "\n",
    "def simple_search(sorted_arr,item):\n",
    "    for i in range(0,len(sorted_arr)):\n",
    "        if sorted_arr[i] == item:\n",
    "            return i\n",
    "    return None\n",
    "\n",
    "print(\"11 is at index:\",simple_search(my_arr,11))\n",
    "print(\"45 is at index:\",simple_search(my_arr,45))"
   ]
  }
 ],
 "metadata": {
  "kernelspec": {
   "display_name": "Python 3.9.12 ('base')",
   "language": "python",
   "name": "python3"
  },
  "language_info": {
   "codemirror_mode": {
    "name": "ipython",
    "version": 3
   },
   "file_extension": ".py",
   "mimetype": "text/x-python",
   "name": "python",
   "nbconvert_exporter": "python",
   "pygments_lexer": "ipython3",
   "version": "3.9.12"
  },
  "vscode": {
   "interpreter": {
    "hash": "82b2f7e49a54dfc9e19a85f649bd0ef29fcdbc801e6c42932c693ea93cc5c6ab"
   }
  }
 },
 "nbformat": 4,
 "nbformat_minor": 5
}
