{
 "cells": [
  {
   "cell_type": "markdown",
   "metadata": {},
   "source": [
    "# <center> **Breadth First Search**\n",
    "*<center>Breadth-first search is a graph traversal algorithm that starts traversing the graph from the root node and explores all the neighboring nodes. It finds whether there is a path from node A to node B, and the shortest path (i.e. least number of segments) between the two nodes.</center>*\n",
    "\n",
    "***\n",
    "\n",
    "- **Time Complexity:** O(V+E)\n",
    "\n",
    "- **Algorithm:** *Requires problem to be presented as a graph, with nodes and edges*\n",
    "    1. Add node to queue\n",
    "    1. Check first node in queue\n",
    "        1. If node matches condition required, then connection is found\n",
    "        1. If node does not match condition, then add all of node's neighbours to end of queue\n",
    "    1. Repeat step 2 until connection is found, or until queue is empty\n",
    "\n",
    "***"
   ]
  },
  {
   "cell_type": "code",
   "execution_count": 1,
   "metadata": {},
   "outputs": [
    {
     "name": "stdout",
     "output_type": "stream",
     "text": [
      "You: thom is a seller!\n",
      "Bob: No connected sellers!\n",
      "Claire: thom is a seller!\n",
      "Thom: No connected sellers!\n"
     ]
    },
    {
     "data": {
      "text/plain": [
       "False"
      ]
     },
     "execution_count": 1,
     "metadata": {},
     "output_type": "execute_result"
    }
   ],
   "source": [
    "# EXAMPLE\n",
    "\n",
    "#graph to represent nodes and edges\n",
    "graph = {}\n",
    "graph[\"you\"] = [\"alice\", \"bob\", \"claire\"]\n",
    "graph[\"bob\"] = [\"anuj\", \"peggy\"]\n",
    "graph[\"alice\"] = [\"peggy\"]\n",
    "graph[\"claire\"] = [\"thom\", \"jonny\"]\n",
    "graph[\"anuj\"] = []\n",
    "graph[\"peggy\"] = []\n",
    "graph[\"thom\"] = []\n",
    "graph[\"jonny\"] = []\n",
    "\n",
    "#helper function to determine who is a seller\n",
    "def person_is_seller(name):\n",
    "    names = [\"you\", \"alice\", \"bob\", \"claire\", \"anuj\", \"peggy\", \"thom\", \"jonny\"]\n",
    "    is_seller = [False, False, False, False, False, False, True, False]\n",
    "    combined_list = dict(zip(names,is_seller))\n",
    "    return combined_list[name]\n",
    "\n",
    "from collections import deque\n",
    "def search(name):\n",
    "    search_queue = deque()  #creates a new queue\n",
    "    search_queue += graph[name]    #adds all of the neighbours to the search queue\n",
    "    searched = []   #array to keep track of who has been searched (to avoid repeated searches and infinite loops)\n",
    "    while search_queue:\n",
    "        person = search_queue.popleft() #get the first person in queue (FIFO)\n",
    "        if not person in searched:  #only search if person hasn't already been searched\n",
    "            if person_is_seller(person):    #check if node matches condition required\n",
    "                print(person,\"is a seller!\")\n",
    "                return True\n",
    "            else:\n",
    "                search_queue += graph[person]    #adds neighbours to queue\n",
    "                searched.append(person)     #marks person as already searched\n",
    "    print(\"No connected sellers!\")\n",
    "    return False\n",
    "\n",
    "\n",
    "print(\"You:\",end=\" \")\n",
    "search(\"you\")\n",
    "\n",
    "print(\"Bob:\",end=\" \")\n",
    "search(\"bob\")\n",
    "\n",
    "print(\"Claire:\",end=\" \")\n",
    "search(\"claire\")\n",
    "\n",
    "print(\"Thom:\",end=\" \")\n",
    "search(\"thom\")"
   ]
  }
 ],
 "metadata": {
  "kernelspec": {
   "display_name": "Python 3.9.12 ('base')",
   "language": "python",
   "name": "python3"
  },
  "language_info": {
   "codemirror_mode": {
    "name": "ipython",
    "version": 3
   },
   "file_extension": ".py",
   "mimetype": "text/x-python",
   "name": "python",
   "nbconvert_exporter": "python",
   "pygments_lexer": "ipython3",
   "version": "3.9.12"
  },
  "orig_nbformat": 4,
  "vscode": {
   "interpreter": {
    "hash": "82b2f7e49a54dfc9e19a85f649bd0ef29fcdbc801e6c42932c693ea93cc5c6ab"
   }
  }
 },
 "nbformat": 4,
 "nbformat_minor": 2
}
