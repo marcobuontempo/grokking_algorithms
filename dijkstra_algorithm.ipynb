{
 "cells": [
  {
   "cell_type": "markdown",
   "metadata": {},
   "source": [
    "# <center> **Dijkstra's Algorithm**\n",
    "*<center>Dijkstra's algorithm is a shortest distance solution, where it finds the lowest-weighted route (e.g. sum of cheapest or fastest weighted segments). It only works on weighted-graphs (w/ positive values and no cycles between neighbours).</center>*\n",
    "\n",
    "***\n",
    "\n",
    "- **Time Complexity:** O(V 2)\n",
    "\n",
    "- **Algorithm:** *Requires problem to be presented as a graph, with nodes and edges*\n",
    "    1. Find the \"cheapest\" node (i.e. the node you can get to in the least amount of time/cost)\n",
    "    1. Check whether there's a cheaper path to the neighbours of this node. If so, update their costs and parent node\n",
    "    1. Repeat until every node in the graph has been processed\n",
    "    1. Calculate the final path, by working backwards through the parent nodes, starting from the final node\n",
    "***"
   ]
  },
  {
   "cell_type": "code",
   "execution_count": 1,
   "metadata": {},
   "outputs": [
    {
     "name": "stdout",
     "output_type": "stream",
     "text": [
      "fin -> a -> b -> start"
     ]
    }
   ],
   "source": [
    "# EXAMPLE\n",
    "\n",
    "###SETUP###\n",
    "#graph to represent nodes and edges\n",
    "graph = {}\n",
    "#start node and it's neighbours\n",
    "graph[\"start\"] = {}\n",
    "graph[\"start\"][\"a\"] = 6\n",
    "graph[\"start\"][\"b\"] = 2\n",
    "#'a' node and it's neighbours\n",
    "graph[\"a\"] = {}\n",
    "graph[\"a\"][\"fin\"] = 1\n",
    "#'b' node and it's neighbours\n",
    "graph[\"b\"] = {}\n",
    "graph[\"b\"][\"a\"] = 3\n",
    "graph[\"b\"][\"fin\"] = 5\n",
    "#finish node, which doesn't have any neighbours\n",
    "graph[\"fin\"] = {}\n",
    "\n",
    "#costs table\n",
    "infinity = float(\"inf\")\n",
    "costs = {}\n",
    "costs[\"a\"] = 6\n",
    "costs[\"b\"] = 2\n",
    "costs[\"fin\"] = infinity\n",
    "\n",
    "#parents hash table\n",
    "parents = {}\n",
    "parents[\"a\"] = \"start\"\n",
    "parents[\"b\"] = \"start\"\n",
    "parents[\"fin\"] = None\n",
    "\n",
    "#array to track processed nodes\n",
    "processed = []\n",
    "\n",
    "\n",
    "###ALGORITHM###\n",
    "#helper function to find lowest cost unprocessed node\n",
    "def find_lowest_cost_node(costs):\n",
    "    lowest_cost = float(\"inf\")\n",
    "    lowest_cost_node = None\n",
    "    for node in costs:  #go through each node\n",
    "        cost = costs[node]\n",
    "        if cost < lowest_cost and node not in processed:    #if it's the lowest cost node and hasn't been processed yet...\n",
    "            lowest_cost = cost  #...update the new lowest cost\n",
    "            lowest_cost_node = node #...update the lowest code node\n",
    "    return lowest_cost_node\n",
    "\n",
    "#algorithm\n",
    "node = find_lowest_cost_node(costs) #find the lowest cost unprocessed node\n",
    "while node is not None: #if all nodes have been processed, then the while loop is done\n",
    "    cost = costs[node]\n",
    "    neighbours = graph[node]\n",
    "    for n in neighbours.keys(): #go through all the neighbours of this node\n",
    "        new_cost = cost + neighbours[n]\n",
    "        if costs[n] > new_cost: #if it's cheaper to get to this neighbour through this current node...\n",
    "            costs[n] = new_cost #...update the cost for this node\n",
    "            parents[n] = node   #this node becomes the new parent for this neighbour\n",
    "    processed.append(node)  #mark the node as processed\n",
    "    node = find_lowest_cost_node(costs) #find the next node to process and loop\n",
    "\n",
    "#print final path\n",
    "parent = \"fin\"\n",
    "while parent:\n",
    "    print(parent, end=\"\")\n",
    "    if parent == \"start\":\n",
    "        break\n",
    "    parent = parents[parent]\n",
    "    print(\" -> \", end=\"\")"
   ]
  }
 ],
 "metadata": {
  "kernelspec": {
   "display_name": "Python 3.9.12 ('base')",
   "language": "python",
   "name": "python3"
  },
  "language_info": {
   "codemirror_mode": {
    "name": "ipython",
    "version": 3
   },
   "file_extension": ".py",
   "mimetype": "text/x-python",
   "name": "python",
   "nbconvert_exporter": "python",
   "pygments_lexer": "ipython3",
   "version": "3.9.12"
  },
  "orig_nbformat": 4,
  "vscode": {
   "interpreter": {
    "hash": "82b2f7e49a54dfc9e19a85f649bd0ef29fcdbc801e6c42932c693ea93cc5c6ab"
   }
  }
 },
 "nbformat": 4,
 "nbformat_minor": 2
}
