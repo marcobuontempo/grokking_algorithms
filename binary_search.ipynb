{
 "cells": [
  {
   "cell_type": "markdown",
   "metadata": {},
   "source": [
    "# <center> **Binary Search**\n",
    "*<center>Binary search is an efficient algorithm for finding an item from a sorted list of items. It works by repeatedly dividing in half the portion of the list that could contain the item, until you've narrowed down the possible locations to just one.</center>*\n",
    "\n",
    "***\n",
    "\n",
    "- **Time Complexity:** O(log n)\n",
    "\n",
    "- **Algorithm:**\n",
    "    1. Find the midpoint of a sorted array, and check if value is lower, higher, or equal to this midpoint\n",
    "    1. If equal, return match\n",
    "    1. If lower, remove all values *after* midpoint of search and repeat from first step\n",
    "    1. If higher, remove all values *before* midpoint of search and repeat from first step\n",
    "    1. If a single value is left and no match is found, return null\n",
    "\n",
    "***"
   ]
  },
  {
   "cell_type": "code",
   "execution_count": 1,
   "metadata": {},
   "outputs": [
    {
     "name": "stdout",
     "output_type": "stream",
     "text": [
      "7 is at index: 2\n",
      "15 is at index: None\n"
     ]
    }
   ],
   "source": [
    "# EXAMPLE\n",
    "\n",
    "my_arr = list(range(1,30,3))\n",
    "#[1, 4, 7, 10, 13, 16, 19, 22, 25, 28]\n",
    "\n",
    "def binary_search(sorted_arr, item):\n",
    "    low = 0\n",
    "    high = len(sorted_arr) - 1\n",
    "\n",
    "    while low <= high:\n",
    "        mid = (low+high) // 2\n",
    "        guess = sorted_arr[mid]\n",
    "        if guess == item:\n",
    "            return mid\n",
    "        elif guess < item:\n",
    "            low = mid + 1\n",
    "        elif guess > item:\n",
    "            high = mid - 1\n",
    "    return None\n",
    "\n",
    "\n",
    "print(\"7 is at index:\",binary_search(my_arr,7))\n",
    "print(\"15 is at index:\",binary_search(my_arr,15))"
   ]
  }
 ],
 "metadata": {
  "kernelspec": {
   "display_name": "Python 3.9.12 ('base')",
   "language": "python",
   "name": "python3"
  },
  "language_info": {
   "codemirror_mode": {
    "name": "ipython",
    "version": 3
   },
   "file_extension": ".py",
   "mimetype": "text/x-python",
   "name": "python",
   "nbconvert_exporter": "python",
   "pygments_lexer": "ipython3",
   "version": "3.9.12"
  },
  "orig_nbformat": 4,
  "vscode": {
   "interpreter": {
    "hash": "82b2f7e49a54dfc9e19a85f649bd0ef29fcdbc801e6c42932c693ea93cc5c6ab"
   }
  }
 },
 "nbformat": 4,
 "nbformat_minor": 2
}
